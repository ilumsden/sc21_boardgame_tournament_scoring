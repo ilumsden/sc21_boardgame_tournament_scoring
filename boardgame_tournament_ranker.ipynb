{
 "cells": [
  {
   "cell_type": "markdown",
   "id": "tamil-adobe",
   "metadata": {},
   "source": [
    "# Students@SC Boardgame Tournament Ranker\n",
    "\n",
    "This Jupyter Notebook will calculate the final rankings for the Students@SC Boardgame Tournament based on the provided configuration and score files. Most of the code powering this notebook can be found in the `boardgame_tournament_scoring` directory."
   ]
  },
  {
   "cell_type": "markdown",
   "id": "average-benjamin",
   "metadata": {},
   "source": [
    "### Configuration File Specification\n",
    "\n",
    "The configuration file is a TOML file that provides relevant data on each game in the tournament. At the top of the file, there must be a `config_id` field. This is simply used as a unique ID for the file. Each game in the file must have the following format:\n",
    "\n",
    "```toml\n",
    "[game_name]\n",
    "max_ranking_points = ...\n",
    "number_of_scores = ...\n",
    "number_of_players = ...\n",
    "placement_based = [True|False]\n",
    "```\n",
    "\n",
    "The fields for each game are as follows:\n",
    "* `game_name`: the name (i.e., unique identifier) of the game\n",
    "* `max_ranking_points`: the maximum number of points that this game can contribute towards a contestant's overall score\n",
    "* `number_of_scores`: the number of scores that this game will contribute towards a contestant's overall score\n",
    "* `number_of_players`: the maximum number of players for the game\n",
    "* `placement_based`: if true, scores for this game should be interpreted as placements (i.e., rankings in a single instance of the game)."
   ]
  },
  {
   "cell_type": "markdown",
   "id": "answering-lease",
   "metadata": {},
   "source": [
    "### Score File Specification\n",
    "\n",
    "The score file is a CSV file containing information about the results of games played. Each row in this file represents a single contestant's result for a single instance of a game. There are three columns in this file:\n",
    "1. The `name` column, which specifies the contestant's name\n",
    "2. The `game` column, which specifies the game the contestant played\n",
    "3. The `score` column, which specifies the contestant's score/placement in the game\n",
    "\n",
    "The only other requirement for the score file is that entries in the `game` column **must** match one of the `game_name` fields in the configuration file. If an entry does not match one of these fields, the row will be treated as if it represents an unknown game, and, thus, it will be dropped."
   ]
  },
  {
   "cell_type": "markdown",
   "id": "initial-renewal",
   "metadata": {},
   "source": [
    "## Specify Configuration and Score Files"
   ]
  },
  {
   "cell_type": "code",
   "execution_count": 1,
   "id": "about-assumption",
   "metadata": {},
   "outputs": [],
   "source": [
    "tournament_config_file = \"./test.toml\"\n",
    "score_file = \"./test.csv\""
   ]
  },
  {
   "cell_type": "markdown",
   "id": "detailed-publicity",
   "metadata": {},
   "source": [
    "## Get Game Information from Configuration File"
   ]
  },
  {
   "cell_type": "code",
   "execution_count": 2,
   "id": "protecting-miami",
   "metadata": {},
   "outputs": [],
   "source": [
    "import sys\n",
    "import os\n",
    "\n",
    "sys.path.insert(0, os.path.abspath(\"./boardgame_tournament_scoring/\"))"
   ]
  },
  {
   "cell_type": "code",
   "execution_count": 3,
   "id": "swedish-premises",
   "metadata": {},
   "outputs": [],
   "source": [
    "import pandas as pd"
   ]
  },
  {
   "cell_type": "code",
   "execution_count": 4,
   "id": "wrapped-salad",
   "metadata": {},
   "outputs": [],
   "source": [
    "from boardgame_tournament_scoring import (\n",
    "    import_games_from_toml,\n",
    "    split_score_df_by_game,\n",
    "    get_max_scores_no_placing,\n",
    "    get_normalized_scores,\n",
    "    get_final_counted_scores_df,\n",
    ")"
   ]
  },
  {
   "cell_type": "code",
   "execution_count": 5,
   "id": "adolescent-antibody",
   "metadata": {},
   "outputs": [
    {
     "name": "stdout",
     "output_type": "stream",
     "text": [
      "Importing Game Data for Test Config!\n"
     ]
    }
   ],
   "source": [
    "games = import_games_from_toml(tournament_config_file)"
   ]
  },
  {
   "cell_type": "markdown",
   "id": "running-brooklyn",
   "metadata": {},
   "source": [
    "## Read the Score File"
   ]
  },
  {
   "cell_type": "code",
   "execution_count": 6,
   "id": "given-memorabilia",
   "metadata": {},
   "outputs": [],
   "source": [
    "score_df = pd.read_csv(score_file)"
   ]
  },
  {
   "cell_type": "markdown",
   "id": "virtual-shakespeare",
   "metadata": {},
   "source": [
    "## Split Score Data by Game"
   ]
  },
  {
   "cell_type": "code",
   "execution_count": 7,
   "id": "advance-ghost",
   "metadata": {},
   "outputs": [],
   "source": [
    "per_game_dfs = split_score_df_by_game(score_df, games)"
   ]
  },
  {
   "cell_type": "markdown",
   "id": "immune-wrapping",
   "metadata": {},
   "source": [
    "## Get the Max Scores for Non-Placement Games"
   ]
  },
  {
   "cell_type": "code",
   "execution_count": 8,
   "id": "champion-bracket",
   "metadata": {},
   "outputs": [],
   "source": [
    "max_scores = get_max_scores_no_placing(per_game_dfs, games)"
   ]
  },
  {
   "cell_type": "markdown",
   "id": "published-analysis",
   "metadata": {},
   "source": [
    "## Normalize the Scores based on Max Ranking Points"
   ]
  },
  {
   "cell_type": "code",
   "execution_count": 9,
   "id": "mature-issue",
   "metadata": {},
   "outputs": [],
   "source": [
    "normed_per_game_dfs = get_normalized_scores(per_game_dfs, max_scores, games)"
   ]
  },
  {
   "cell_type": "markdown",
   "id": "later-socket",
   "metadata": {},
   "source": [
    "## Collect Scores that Should Be Counted Towards Result"
   ]
  },
  {
   "cell_type": "code",
   "execution_count": 10,
   "id": "criminal-sharing",
   "metadata": {},
   "outputs": [],
   "source": [
    "full_counted_df = get_final_counted_scores_df(normed_per_game_dfs, games)"
   ]
  },
  {
   "cell_type": "markdown",
   "id": "collectible-waste",
   "metadata": {},
   "source": [
    "# Winner: Overall Score"
   ]
  },
  {
   "cell_type": "code",
   "execution_count": 14,
   "id": "wrapped-championship",
   "metadata": {},
   "outputs": [
    {
     "data": {
      "text/plain": [
       "name\n",
       "Ian Lumsden    37.91400\n",
       "Person 1       35.59495\n",
       "dtype: float64"
      ]
     },
     "metadata": {},
     "output_type": "display_data"
    }
   ],
   "source": [
    "overall_score_series = full_counted_df.sum(axis=1)\n",
    "overall_score_series.sort_values(inplace=True, ascending=False)\n",
    "display(overall_score_series)"
   ]
  },
  {
   "cell_type": "markdown",
   "id": "short-brazil",
   "metadata": {},
   "source": [
    "# Winner: Most Games Played"
   ]
  },
  {
   "cell_type": "code",
   "execution_count": 16,
   "id": "going-trigger",
   "metadata": {},
   "outputs": [
    {
     "data": {
      "text/html": [
       "<div>\n",
       "<style scoped>\n",
       "    .dataframe tbody tr th:only-of-type {\n",
       "        vertical-align: middle;\n",
       "    }\n",
       "\n",
       "    .dataframe tbody tr th {\n",
       "        vertical-align: top;\n",
       "    }\n",
       "\n",
       "    .dataframe thead th {\n",
       "        text-align: right;\n",
       "    }\n",
       "</style>\n",
       "<table border=\"1\" class=\"dataframe\">\n",
       "  <thead>\n",
       "    <tr style=\"text-align: right;\">\n",
       "      <th></th>\n",
       "      <th>score</th>\n",
       "    </tr>\n",
       "    <tr>\n",
       "      <th>name</th>\n",
       "      <th></th>\n",
       "    </tr>\n",
       "  </thead>\n",
       "  <tbody>\n",
       "    <tr>\n",
       "      <th>Ian Lumsden</th>\n",
       "      <td>8</td>\n",
       "    </tr>\n",
       "    <tr>\n",
       "      <th>Person 1</th>\n",
       "      <td>8</td>\n",
       "    </tr>\n",
       "  </tbody>\n",
       "</table>\n",
       "</div>"
      ],
      "text/plain": [
       "             score\n",
       "name              \n",
       "Ian Lumsden      8\n",
       "Person 1         8"
      ]
     },
     "metadata": {},
     "output_type": "display_data"
    }
   ],
   "source": [
    "games_played_count = score_df[[\"name\", \"score\"]].groupby(by=\"name\").count()\n",
    "display(games_played_count)"
   ]
  },
  {
   "cell_type": "code",
   "execution_count": null,
   "id": "several-channel",
   "metadata": {},
   "outputs": [],
   "source": []
  }
 ],
 "metadata": {
  "kernelspec": {
   "display_name": "Python 3",
   "language": "python",
   "name": "python3"
  },
  "language_info": {
   "codemirror_mode": {
    "name": "ipython",
    "version": 3
   },
   "file_extension": ".py",
   "mimetype": "text/x-python",
   "name": "python",
   "nbconvert_exporter": "python",
   "pygments_lexer": "ipython3",
   "version": "3.8.5"
  }
 },
 "nbformat": 4,
 "nbformat_minor": 5
}
