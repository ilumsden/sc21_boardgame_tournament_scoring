{
 "cells": [
  {
   "cell_type": "markdown",
   "id": "tamil-adobe",
   "metadata": {},
   "source": [
    "# Students@SC Boardgame Tournament Ranker\n",
    "\n",
    "This Jupyter Notebook will calculate the final rankings for the Students@SC Boardgame Tournament based on the provided configuration and score files. Most of the code powering this notebook can be found in the `boardgame_tournament_scoring` directory."
   ]
  },
  {
   "cell_type": "markdown",
   "id": "average-benjamin",
   "metadata": {},
   "source": [
    "### Configuration File Specification\n",
    "\n",
    "The configuration file is a TOML file that provides relevant data on each game in the tournament. At the top of the file, there must be a `config_id` field. This is simply used as a unique ID for the file. Each game in the file must have the following format:\n",
    "\n",
    "```toml\n",
    "[game_name]\n",
    "scheme = ...\n",
    "max_ranking_points = ...\n",
    "number_of_scores = ...\n",
    "num_player_range = ...\n",
    "```\n",
    "\n",
    "The fields for each game are as follows:\n",
    "* `game_name`: the name (i.e., unique identifier) of the game\n",
    "* `scheme`: the scoring scheme to use for the game. Valid options are\n",
    "  * `\"num_player_no_placing\"`: scheme that normalizes continuous scores\n",
    "  * `\"num_player_placing\"`: scheme that normalizes discrete, placing scores (e.g., 1st, 2nd, 3rd)\n",
    "  * `\"top_three\"`: scheme that gives everyone 1 point, but gives more points to people coming in the top 3 for a game\n",
    "* `max_ranking_points`: the maximum number of points that this game can contribute towards a contestant's overall score. This does not matter for `\"top_three\"`.\n",
    "* `number_of_scores`: the number of scores that this game will contribute towards a contestant's overall score\n",
    "* `num_player_range`: a list of two numbers (e.g., `[#, #]`) specifying the minimum and maximum number of people how can play in a single session of the game. This does not matter for `\"top_three\"`."
   ]
  },
  {
   "cell_type": "markdown",
   "id": "answering-lease",
   "metadata": {},
   "source": [
    "### Score File Specification\n",
    "\n",
    "The score file is a CSV file containing information about the results of games played. Each row in this file represents a single contestant's result for a single instance of a game. There are four columns in this file:\n",
    "1. The `name` column, which specifies the contestant's name\n",
    "2. The `game` column, which specifies the game the contestant played\n",
    "3. The `score` column, which specifies the contestant's score/placement in the game\n",
    "4. The `num_players` column, which specifies the number of players in the game\n",
    "\n",
    "The only other requirement for the score file is that entries in the `game` column **must** match one of the `game_name` fields in the configuration file. If an entry does not match one of these fields, the row will be treated as if it represents an unknown game, and, thus, it will be dropped."
   ]
  },
  {
   "cell_type": "markdown",
   "id": "initial-renewal",
   "metadata": {},
   "source": [
    "## Specify Configuration and Score Files"
   ]
  },
  {
   "cell_type": "code",
   "execution_count": null,
   "id": "about-assumption",
   "metadata": {},
   "outputs": [],
   "source": [
    "tournament_config_file = \"./test.toml\"\n",
    "score_file = \"./test.csv\""
   ]
  },
  {
   "cell_type": "markdown",
   "id": "detailed-publicity",
   "metadata": {},
   "source": [
    "## Get Game Information from Configuration File"
   ]
  },
  {
   "cell_type": "code",
   "execution_count": null,
   "id": "protecting-miami",
   "metadata": {},
   "outputs": [],
   "source": [
    "import sys\n",
    "import os\n",
    "\n",
    "sys.path.insert(0, os.path.abspath(\"./boardgame_tournament_scoring/\"))"
   ]
  },
  {
   "cell_type": "code",
   "execution_count": null,
   "id": "swedish-premises",
   "metadata": {},
   "outputs": [],
   "source": [
    "import pandas as pd"
   ]
  },
  {
   "cell_type": "code",
   "execution_count": null,
   "id": "wrapped-salad",
   "metadata": {},
   "outputs": [],
   "source": [
    "from boardgame_tournament_scoring import (\n",
    "    import_games_from_toml,\n",
    "    split_score_df_by_game,\n",
    "    get_max_scores_no_placing,\n",
    "    get_normalized_scores,\n",
    "    get_final_counted_scores_df,\n",
    "    get_num_games_played,\n",
    ")"
   ]
  },
  {
   "cell_type": "code",
   "execution_count": null,
   "id": "adolescent-antibody",
   "metadata": {},
   "outputs": [],
   "source": [
    "games = import_games_from_toml(tournament_config_file)"
   ]
  },
  {
   "cell_type": "markdown",
   "id": "running-brooklyn",
   "metadata": {},
   "source": [
    "## Read the Score File"
   ]
  },
  {
   "cell_type": "code",
   "execution_count": null,
   "id": "given-memorabilia",
   "metadata": {},
   "outputs": [],
   "source": [
    "score_df = pd.read_csv(score_file)"
   ]
  },
  {
   "cell_type": "markdown",
   "id": "virtual-shakespeare",
   "metadata": {},
   "source": [
    "## Split Score Data by Game"
   ]
  },
  {
   "cell_type": "code",
   "execution_count": null,
   "id": "advance-ghost",
   "metadata": {},
   "outputs": [],
   "source": [
    "per_game_dfs = split_score_df_by_game(score_df, games)"
   ]
  },
  {
   "cell_type": "markdown",
   "id": "immune-wrapping",
   "metadata": {},
   "source": [
    "## Get the Max Scores for Non-Placement Games"
   ]
  },
  {
   "cell_type": "code",
   "execution_count": null,
   "id": "champion-bracket",
   "metadata": {},
   "outputs": [],
   "source": [
    "max_scores = get_max_scores_no_placing(per_game_dfs, games)"
   ]
  },
  {
   "cell_type": "markdown",
   "id": "published-analysis",
   "metadata": {},
   "source": [
    "## Normalize the Scores based on Max Ranking Points"
   ]
  },
  {
   "cell_type": "code",
   "execution_count": null,
   "id": "mature-issue",
   "metadata": {},
   "outputs": [],
   "source": [
    "normed_per_game_dfs = get_normalized_scores(per_game_dfs, games, max_scores)"
   ]
  },
  {
   "cell_type": "markdown",
   "id": "later-socket",
   "metadata": {},
   "source": [
    "## Collect Scores that Should Be Counted Towards Result"
   ]
  },
  {
   "cell_type": "code",
   "execution_count": null,
   "id": "criminal-sharing",
   "metadata": {},
   "outputs": [],
   "source": [
    "full_counted_df = get_final_counted_scores_df(normed_per_game_dfs, games)"
   ]
  },
  {
   "cell_type": "markdown",
   "id": "8d985cc3",
   "metadata": {},
   "source": [
    "## Get Number of Games Played for Each Player"
   ]
  },
  {
   "cell_type": "code",
   "execution_count": null,
   "id": "371e948a",
   "metadata": {},
   "outputs": [],
   "source": [
    "games_played_count = get_num_games_played(score_df)"
   ]
  },
  {
   "cell_type": "markdown",
   "id": "collectible-waste",
   "metadata": {},
   "source": [
    "# Winner: Overall Score"
   ]
  },
  {
   "cell_type": "code",
   "execution_count": null,
   "id": "wrapped-championship",
   "metadata": {},
   "outputs": [],
   "source": [
    "perf_score_series = full_counted_df.sum(axis=1)\n",
    "overall_score_dict = []\n",
    "for name in perf_score_series.index.unique().tolist():\n",
    "    person_score_dict = {}\n",
    "    person_score_dict[\"name\"] = name\n",
    "    person_score_dict[\"score\"] = perf_score_series[name] + games_played_count[name]\n",
    "    overall_score_dict.append(person_score_dict)\n",
    "overall_score_df = pd.DataFrame(data=overall_score_dict)\n",
    "overall_score_df.sort_values(by=\"score\", ascending=False)\n",
    "display(overall_score_df)"
   ]
  },
  {
   "cell_type": "code",
   "execution_count": null,
   "id": "several-channel",
   "metadata": {},
   "outputs": [],
   "source": []
  }
 ],
 "metadata": {
  "kernelspec": {
   "display_name": "Python 3 (ipykernel)",
   "language": "python",
   "name": "python3"
  },
  "language_info": {
   "codemirror_mode": {
    "name": "ipython",
    "version": 3
   },
   "file_extension": ".py",
   "mimetype": "text/x-python",
   "name": "python",
   "nbconvert_exporter": "python",
   "pygments_lexer": "ipython3",
   "version": "3.8.5"
  }
 },
 "nbformat": 4,
 "nbformat_minor": 5
}
